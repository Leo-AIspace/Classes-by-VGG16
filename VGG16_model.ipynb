{
 "cells": [
  {
   "cell_type": "code",
   "execution_count": 1,
   "metadata": {
    "executionInfo": {
     "elapsed": 2394,
     "status": "ok",
     "timestamp": 1602748422427,
     "user": {
      "displayName": "蘇昀呈",
      "photoUrl": "",
      "userId": "12930628252408939567"
     },
     "user_tz": -480
    },
    "id": "V6RQKkSYlZaD"
   },
   "outputs": [],
   "source": [
    "# import zipfile,os\n",
    "# from google.colab import drive\n",
    "from keras_preprocessing import image\n",
    "from keras_preprocessing.image import ImageDataGenerator"
   ]
  },
  {
   "cell_type": "code",
   "execution_count": 2,
   "metadata": {
    "colab": {
     "base_uri": "https://localhost:8080/",
     "height": 35
    },
    "executionInfo": {
     "elapsed": 903,
     "status": "ok",
     "timestamp": 1602748451990,
     "user": {
      "displayName": "蘇昀呈",
      "photoUrl": "",
      "userId": "12930628252408939567"
     },
     "user_tz": -480
    },
    "id": "-ml5xBSNzJBb",
    "outputId": "eeb970ec-d421-4c32-bfa0-b6c12c0fd84f"
   },
   "outputs": [
    {
     "data": {
      "text/plain": [
       "\"\\nwith zipfile.ZipFile('sample.zip','r') as zf:\\n  zf.extractall('sample')\\n  \""
      ]
     },
     "execution_count": 2,
     "metadata": {},
     "output_type": "execute_result"
    }
   ],
   "source": [
    "'''\n",
    "with zipfile.ZipFile('sample.zip','r') as zf:\n",
    "  zf.extractall('sample')\n",
    "  '''"
   ]
  },
  {
   "cell_type": "code",
   "execution_count": 3,
   "metadata": {
    "executionInfo": {
     "elapsed": 951,
     "status": "ok",
     "timestamp": 1602748454827,
     "user": {
      "displayName": "蘇昀呈",
      "photoUrl": "",
      "userId": "12930628252408939567"
     },
     "user_tz": -480
    },
    "id": "aCt7ylWv0B_b"
   },
   "outputs": [],
   "source": [
    "train_dir='./sample/train'\n",
    "test_dir='./sample/test'"
   ]
  },
  {
   "cell_type": "code",
   "execution_count": 4,
   "metadata": {
    "colab": {
     "base_uri": "https://localhost:8080/",
     "height": 34
    },
    "executionInfo": {
     "elapsed": 942837,
     "status": "ok",
     "timestamp": 1602504861146,
     "user": {
      "displayName": "蘇昀呈",
      "photoUrl": "",
      "userId": "12930628252408939567"
     },
     "user_tz": -480
    },
    "id": "DtecXcTx0-5a",
    "outputId": "dc510034-9494-4613-ba79-6251e65091fa"
   },
   "outputs": [
    {
     "name": "stdout",
     "output_type": "stream",
     "text": [
      "Found 4000 images belonging to 2 classes.\n"
     ]
    }
   ],
   "source": [
    "train_datagen=ImageDataGenerator(\n",
    "    #rescale=1./255,\n",
    "    rotation_range=30, #旋轉\n",
    "    shear_range=0.2,#裁減\n",
    "    zoom_range=0.2,#放大縮小\n",
    "    horizontal_flip=True,\n",
    "    fill_mode='nearest')\n",
    "train_generator=train_datagen.flow_from_directory(\n",
    "    train_dir,\n",
    "    target_size=(224,224),\n",
    "    batch_size=32,\n",
    "    shuffle=False,#抽樣不放回\n",
    "    class_mode='binary')\n",
    "# x_train,y_train=train_generator.next()"
   ]
  },
  {
   "cell_type": "code",
   "execution_count": 5,
   "metadata": {
    "colab": {
     "base_uri": "https://localhost:8080/",
     "height": 34
    },
    "executionInfo": {
     "elapsed": 1035646,
     "status": "ok",
     "timestamp": 1602504957362,
     "user": {
      "displayName": "蘇昀呈",
      "photoUrl": "",
      "userId": "12930628252408939567"
     },
     "user_tz": -480
    },
    "id": "1j1lGAzD5soL",
    "outputId": "4bd1d529-3b0a-430c-99cb-9bb23246c675"
   },
   "outputs": [
    {
     "name": "stdout",
     "output_type": "stream",
     "text": [
      "Found 400 images belonging to 2 classes.\n"
     ]
    }
   ],
   "source": [
    "test_datagen=ImageDataGenerator()#rescale=1./255)\n",
    "test_generator=test_datagen.flow_from_directory(\n",
    "    test_dir,\n",
    "    target_size=(224,224),\n",
    "    batch_size=16,\n",
    "    shuffle=False,\n",
    "    class_mode='binary')\n",
    "# x_test,y_test=test_generator.next()"
   ]
  },
  {
   "cell_type": "code",
   "execution_count": 6,
   "metadata": {
    "executionInfo": {
     "elapsed": 1181,
     "status": "ok",
     "timestamp": 1602749039839,
     "user": {
      "displayName": "蘇昀呈",
      "photoUrl": "",
      "userId": "12930628252408939567"
     },
     "user_tz": -480
    },
    "id": "V-5Yu55y5NI6"
   },
   "outputs": [],
   "source": [
    "from keras.applications.vgg16 import VGG16"
   ]
  },
  {
   "cell_type": "code",
   "execution_count": 7,
   "metadata": {},
   "outputs": [],
   "source": [
    "from keras.models import Sequential,Model\n",
    "from keras import optimizers\n",
    "from keras.layers import  Flatten, Dropout, Dense,Input,BatchNormalization"
   ]
  },
  {
   "cell_type": "code",
   "execution_count": 8,
   "metadata": {},
   "outputs": [],
   "source": [
    "Inputdata = Input(shape=(224,224,3))\n",
    "model_vgg16=VGG16(weights='imagenet',include_top=False)(Inputdata)\n",
    "F1 = Flatten()(model_vgg16)\n",
    "D1 = Dense(4096,activation='relu')(F1)\n",
    "DO1= Dropout(0.5)(D1)\n",
    "D2 = Dense(512,activation='relu')(DO1)\n",
    "D3 = Dense(128,activation='relu')(D2)\n",
    "DO2= Dropout(0.5)(D3)\n",
    "Output=Dense(2,activation='softmax')(DO2)\n",
    "model_API = Model(inputs=Inputdata, outputs=Output)\n",
    "model_API.layers[1].trainable=False\n",
    "model_API.summary()"
   ]
  },
  {
   "cell_type": "code",
   "execution_count": 9,
   "metadata": {},
   "outputs": [
    {
     "name": "stdout",
     "output_type": "stream",
     "text": [
      "Model: \"model\"\n",
      "_________________________________________________________________\n",
      "Layer (type)                 Output Shape              Param #   \n",
      "=================================================================\n",
      "input_1 (InputLayer)         [(None, 224, 224, 3)]     0         \n",
      "_________________________________________________________________\n",
      "vgg16 (Functional)           (None, None, None, 512)   14714688  \n",
      "_________________________________________________________________\n",
      "flatten (Flatten)            (None, 25088)             0         \n",
      "_________________________________________________________________\n",
      "dense (Dense)                (None, 4096)              102764544 \n",
      "_________________________________________________________________\n",
      "batch_normalization (BatchNo (None, 4096)              16384     \n",
      "_________________________________________________________________\n",
      "dense_1 (Dense)              (None, 512)               2097664   \n",
      "_________________________________________________________________\n",
      "batch_normalization_1 (Batch (None, 512)               2048      \n",
      "_________________________________________________________________\n",
      "dense_2 (Dense)              (None, 128)               65664     \n",
      "_________________________________________________________________\n",
      "batch_normalization_2 (Batch (None, 128)               512       \n",
      "_________________________________________________________________\n",
      "dense_3 (Dense)              (None, 2)                 258       \n",
      "=================================================================\n",
      "Total params: 119,661,762\n",
      "Trainable params: 104,937,602\n",
      "Non-trainable params: 14,724,160\n",
      "_________________________________________________________________\n"
     ]
    }
   ],
   "source": [
    "# Inputdata = Input(shape=(224,224,3))\n",
    "# model_vgg16=VGG16(weights='imagenet',include_top=False)(Inputdata)\n",
    "# F1 = Flatten()(model_vgg16)\n",
    "# D1 = Dense(4096,activation='relu')(F1)\n",
    "# BN1= BatchNormalization()(D1)\n",
    "# D2 = Dense(512,activation='relu')(BN1)\n",
    "# BN2= BatchNormalization()(D2)\n",
    "# D3 = Dense(128,activation='relu')(BN2)\n",
    "# BN3= BatchNormalization()(D3)\n",
    "# Output=Dense(2,activation='softmax')(BN3)\n",
    "# model_API = Model(inputs=Inputdata, outputs=Output)\n",
    "# model_API.layers[1].trainable=False\n",
    "# model_API.summary()"
   ]
  },
  {
   "cell_type": "code",
   "execution_count": 10,
   "metadata": {},
   "outputs": [],
   "source": [
    "model_API.compile(loss='sparse_categorical_crossentropy',optimizer=optimizers.Adam(lr=1e-4),metrics=['accuracy'])"
   ]
  },
  {
   "cell_type": "code",
   "execution_count": 11,
   "metadata": {
    "executionInfo": {
     "elapsed": 1425,
     "status": "ok",
     "timestamp": 1602749129268,
     "user": {
      "displayName": "蘇昀呈",
      "photoUrl": "",
      "userId": "12930628252408939567"
     },
     "user_tz": -480
    },
    "id": "AOZHZ_UvoAWP"
   },
   "outputs": [],
   "source": [
    "from keras.callbacks import ModelCheckpoint"
   ]
  },
  {
   "cell_type": "code",
   "execution_count": 12,
   "metadata": {
    "executionInfo": {
     "elapsed": 1137,
     "status": "ok",
     "timestamp": 1602749129268,
     "user": {
      "displayName": "蘇昀呈",
      "photoUrl": "",
      "userId": "12930628252408939567"
     },
     "user_tz": -480
    },
    "id": "f7J--nIYpADm"
   },
   "outputs": [],
   "source": [
    "checkpoint=ModelCheckpoint('newVGG16.h5',monitor='val_loss',mode='min',save_best_only=True,verbose=2)\n",
    "callbacks_list=[checkpoint]"
   ]
  },
  {
   "cell_type": "code",
   "execution_count": null,
   "metadata": {
    "colab": {
     "base_uri": "https://localhost:8080/",
     "height": 1000
    },
    "executionInfo": {
     "elapsed": 168244,
     "status": "ok",
     "timestamp": 1602749296983,
     "user": {
      "displayName": "蘇昀呈",
      "photoUrl": "",
      "userId": "12930628252408939567"
     },
     "user_tz": -480
    },
    "id": "J4vzAwkr7o_D",
    "outputId": "b366714d-2436-40f4-f1f0-15dbff8928e4"
   },
   "outputs": [
    {
     "name": "stdout",
     "output_type": "stream",
     "text": [
      "Epoch 1/18\n",
      "40/40 [==============================] - 163s 4s/step - loss: 1.0640 - accuracy: 0.4949 - val_loss: 1.7288 - val_accuracy: 0.5275\n",
      "\n",
      "Epoch 00001: val_loss improved from inf to 1.72877, saving model to newVGG16.h5\n",
      "Epoch 2/18\n",
      "40/40 [==============================] - 173s 4s/step - loss: 0.8873 - accuracy: 0.5200 - val_loss: 1.0663 - val_accuracy: 0.5225\n",
      "\n",
      "Epoch 00002: val_loss improved from 1.72877 to 1.06630, saving model to newVGG16.h5\n",
      "Epoch 3/18\n",
      "40/40 [==============================] - 172s 4s/step - loss: 0.8307 - accuracy: 0.4952 - val_loss: 0.9179 - val_accuracy: 0.5225\n",
      "\n",
      "Epoch 00003: val_loss improved from 1.06630 to 0.91788, saving model to newVGG16.h5\n",
      "Epoch 4/18\n",
      "40/40 [==============================] - 171s 4s/step - loss: 0.7918 - accuracy: 0.4836 - val_loss: 0.8239 - val_accuracy: 0.5050\n",
      "\n",
      "Epoch 00004: val_loss improved from 0.91788 to 0.82393, saving model to newVGG16.h5\n",
      "Epoch 5/18\n",
      "40/40 [==============================] - 173s 4s/step - loss: 0.7640 - accuracy: 0.5070 - val_loss: 0.7550 - val_accuracy: 0.5150\n",
      "\n",
      "Epoch 00005: val_loss improved from 0.82393 to 0.75502, saving model to newVGG16.h5\n",
      "Epoch 6/18\n",
      "35/40 [=========================>....] - ETA: 17s - loss: 0.7546 - accuracy: 0.5127"
     ]
    }
   ],
   "source": [
    "# train_history=model_API.fit(arr_train,y_train,epochs=30,verbose=2,validation_split=0.2)#,callbacks=callbacks_list\n",
    "train_history=model_API.fit(train_generator,steps_per_epoch =1280//32,epochs=18,verbose=1,\n",
    "                            validation_data=test_generator,callbacks=callbacks_list)#"
   ]
  },
  {
   "cell_type": "code",
   "execution_count": 14,
   "metadata": {},
   "outputs": [],
   "source": [
    "import matplotlib.pyplot as plt\n",
    "def show_train_history(train_acc,test_acc):\n",
    "    plt.plot(train_history.history[train_acc])\n",
    "    plt.plot(train_history.history[test_acc])\n",
    "    plt.title('Train History')\n",
    "    plt.ylabel('Accuracy/loss')\n",
    "    plt.xlabel('Epoch')\n",
    "    plt.legend(['train', 'test'], loc='upper left')\n",
    "    plt.show()"
   ]
  },
  {
   "cell_type": "code",
   "execution_count": 17,
   "metadata": {},
   "outputs": [
    {
     "data": {
      "image/png": "[encoded data removed]",
      "text/plain": [
       "<Figure size 432x288 with 1 Axes>"
      ]
     },
     "metadata": {
      "needs_background": "light"
     },
     "output_type": "display_data"
    }
   ],
   "source": [
    "show_train_history('accuracy','val_accuracy')"
   ]
  },
  {
   "cell_type": "code",
   "execution_count": 18,
   "metadata": {},
   "outputs": [
    {
     "data": {
      "image/png": "[encoded data removed]",
      "text/plain": [
       "<Figure size 432x288 with 1 Axes>"
      ]
     },
     "metadata": {
      "needs_background": "light"
     },
     "output_type": "display_data"
    }
   ],
   "source": [
    "show_train_history('loss','val_loss')"
   ]
  },
  {
   "cell_type": "code",
   "execution_count": null,
   "metadata": {
    "colab": {
     "base_uri": "https://localhost:8080/",
     "height": 34
    },
    "executionInfo": {
     "elapsed": 1772,
     "status": "ok",
     "timestamp": 1602749303742,
     "user": {
      "displayName": "蘇昀呈",
      "photoUrl": "",
      "userId": "12930628252408939567"
     },
     "user_tz": -480
    },
    "id": "DrFtpbKi7rir",
    "outputId": "ea9d3dbe-57fa-45cc-829d-080ffdc863d2"
   },
   "outputs": [],
   "source": [
    "# score= model.evaluate(arr_test,y_test)"
   ]
  },
  {
   "cell_type": "code",
   "execution_count": 4,
   "metadata": {
    "executionInfo": {
     "elapsed": 7635,
     "status": "ok",
     "timestamp": 1602749313891,
     "user": {
      "displayName": "蘇昀呈",
      "photoUrl": "",
      "userId": "12930628252408939567"
     },
     "user_tz": -480
    },
    "id": "hGBx-dEI5l_G"
   },
   "outputs": [],
   "source": [
    "from keras.models import load_model\n",
    "vgg16_model = load_model('newVGG16.h5')"
   ]
  },
  {
   "cell_type": "code",
   "execution_count": 9,
   "metadata": {},
   "outputs": [
    {
     "name": "stdout",
     "output_type": "stream",
     "text": [
      "Found 400 images belonging to 2 classes.\n"
     ]
    }
   ],
   "source": [
    "test_datagen=ImageDataGenerator()#rescale=1./255)\n",
    "test_generator=test_datagen.flow_from_directory(\n",
    "    test_dir,\n",
    "    target_size=(224,224),\n",
    "    batch_size=400,\n",
    "    shuffle=False,\n",
    "    class_mode='binary')\n",
    "x_test,y_test=test_generator.next()"
   ]
  },
  {
   "cell_type": "code",
   "execution_count": 10,
   "metadata": {
    "colab": {
     "base_uri": "https://localhost:8080/",
     "height": 34
    },
    "executionInfo": {
     "elapsed": 927,
     "status": "ok",
     "timestamp": 1602749316102,
     "user": {
      "displayName": "蘇昀呈",
      "photoUrl": "",
      "userId": "12930628252408939567"
     },
     "user_tz": -480
    },
    "id": "5nBA6z4Z58kt",
    "outputId": "8722c4f5-9631-4059-d985-ff2138fca3cb"
   },
   "outputs": [
    {
     "name": "stdout",
     "output_type": "stream",
     "text": [
      "13/13 [==============================] - 29s 2s/step - loss: 0.1241 - accuracy: 0.9525\n"
     ]
    }
   ],
   "source": [
    "#newVGG16_1 : loss: 0.1241 - accuracy: 0.9525\n",
    "score= vgg16_model.evaluate(x_test,y_test)"
   ]
  },
  {
   "cell_type": "code",
   "execution_count": null,
   "metadata": {
    "executionInfo": {
     "elapsed": 14155,
     "status": "ok",
     "timestamp": 1602749545453,
     "user": {
      "displayName": "蘇昀呈",
      "photoUrl": "",
      "userId": "12930628252408939567"
     },
     "user_tz": -480
    },
    "id": "CiEp8rSmTbgg"
   },
   "outputs": [],
   "source": [
    "# weight_model = model.load_weights('newVGG16_weights.h5')"
   ]
  },
  {
   "cell_type": "code",
   "execution_count": null,
   "metadata": {
    "colab": {
     "base_uri": "https://localhost:8080/",
     "height": 165
    },
    "executionInfo": {
     "elapsed": 992,
     "status": "error",
     "timestamp": 1602749575488,
     "user": {
      "displayName": "蘇昀呈",
      "photoUrl": "",
      "userId": "12930628252408939567"
     },
     "user_tz": -480
    },
    "id": "6riLw0N_UJqB",
    "outputId": "07c7cb18-0730-40d3-a119-833f370518a4"
   },
   "outputs": [],
   "source": [
    "# score= weight_model.evaluate(arr_test,y_test)"
   ]
  },
  {
   "cell_type": "code",
   "execution_count": null,
   "metadata": {
    "id": "N_AQAF2tUa0g"
   },
   "outputs": [],
   "source": []
  }
 ],
 "metadata": {
  "accelerator": "GPU",
  "colab": {
   "authorship_tag": "ABX9TyMfPmiNNNFrrhiioQedKaUG",
   "collapsed_sections": [],
   "name": "zip_VGG166.ipynb",
   "provenance": []
  },
  "kernelspec": {
   "display_name": "Python 3",
   "language": "python",
   "name": "python3"
  },
  "language_info": {
   "codemirror_mode": {
    "name": "ipython",
    "version": 3
   },
   "file_extension": ".py",
   "mimetype": "text/x-python",
   "name": "python",
   "nbconvert_exporter": "python",
   "pygments_lexer": "ipython3",
   "version": "3.8.5"
  }
 },
 "nbformat": 4,
 "nbformat_minor": 1
}
